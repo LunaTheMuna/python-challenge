{
 "cells": [
  {
   "cell_type": "code",
   "execution_count": 145,
   "metadata": {},
   "outputs": [],
   "source": [
    "# Import Dependencies\n",
    "import pandas as pd\n"
   ]
  },
  {
   "cell_type": "code",
   "execution_count": 150,
   "metadata": {},
   "outputs": [],
   "source": [
    "# Create a reference the CSV file desired\n",
    "csv_path = \"Resources/election_data.csv\"\n",
    "\n",
    "# Read the CSV into a Pandas DataFrame\n",
    "election_df1 = pd.read_csv(csv_path)\n",
    "\n",
    "# How many votes were cast?\n",
    "\n",
    "num_votes =  election_df1[\"Voter ID\"].count()\n",
    "\n",
    "print(\"There were \" + str(num_votes) + \" votes cast.\")"
   ]
  },
  {
   "cell_type": "code",
   "execution_count": 151,
   "metadata": {},
   "outputs": [
    {
     "data": {
      "text/plain": [
       "array(['Khan', 'Correy', 'Li', \"O'Tooley\"], dtype=object)"
      ]
     },
     "execution_count": 151,
     "metadata": {},
     "output_type": "execute_result"
    }
   ],
   "source": [
    "# list the candidates \n",
    "candidates = election_df1[\"Candidate\"].unique()\n",
    "candidates\n"
   ]
  },
  {
   "cell_type": "code",
   "execution_count": 152,
   "metadata": {},
   "outputs": [
    {
     "data": {
      "text/plain": [
       "Khan        2218231\n",
       "Correy       704200\n",
       "Li           492940\n",
       "O'Tooley     105630\n",
       "Name: Candidate, dtype: int64"
      ]
     },
     "execution_count": 152,
     "metadata": {},
     "output_type": "execute_result"
    }
   ],
   "source": [
    "# total votes by candidate\n",
    "candidate_vote_counts = election_df1[\"Candidate\"].value_counts()\n",
    "candidate_vote_counts.head()\n"
   ]
  },
  {
   "cell_type": "code",
   "execution_count": 153,
   "metadata": {},
   "outputs": [],
   "source": [
    "# The percentage of votes by candidate\n",
    "candidate_percentage = candidate_vote_counts / num_votes * 100\n",
    "candidate_percentage\n",
    "print(candidate_percentage)"
   ]
  },
  {
   "cell_type": "code",
   "execution_count": 154,
   "metadata": {},
   "outputs": [],
   "source": [
    "# Winner based on popular vote\n",
    "vote_tally = pd.DataFrame(candidate_vote_counts)\n",
    "\n",
    "vote_tally.rename(columns={'Candidate': 'Votes'}, inplace=True)\n",
    "vote_tally.sort_values(\"Votes\",ascending=False)\n",
    "winner= vote_tally[:1].index[0]\n",
    "print (\"And the winner is \" + winner ) "
   ]
  },
  {
   "cell_type": "code",
   "execution_count": null,
   "metadata": {},
   "outputs": [],
   "source": []
  },
  {
   "cell_type": "code",
   "execution_count": null,
   "metadata": {},
   "outputs": [],
   "source": []
  }
 ],
 "metadata": {
  "kernelspec": {
   "display_name": "Python 3",
   "language": "python",
   "name": "python3"
  },
  "language_info": {
   "codemirror_mode": {
    "name": "ipython",
    "version": 3
   },
   "file_extension": ".py",
   "mimetype": "text/x-python",
   "name": "python",
   "nbconvert_exporter": "python",
   "pygments_lexer": "ipython3",
   "version": "3.6.5"
  }
 },
 "nbformat": 4,
 "nbformat_minor": 2
}

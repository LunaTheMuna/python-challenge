{
 "cells": [
  {
   "cell_type": "code",
   "execution_count": 10,
   "metadata": {},
   "outputs": [],
   "source": [
    "# Import Dependencies\n",
    "import pandas as pd\n",
    "import os\n",
    "import csv\n",
    "import sys\n",
    "\n"
   ]
  },
  {
   "cell_type": "code",
   "execution_count": 11,
   "metadata": {},
   "outputs": [
    {
     "name": "stdout",
     "output_type": "stream",
     "text": [
      "There were 3521001 votes cast.\n",
      "The vote percentages were \n",
      "Khan        63.000011\n",
      "Correy      19.999994\n",
      "Li          13.999996\n",
      "O'Tooley     2.999999\n",
      "Name: Candidate, dtype: float64\n",
      "And the winner is Khan\n"
     ]
    }
   ],
   "source": [
    "class Logger(object):\n",
    "    def __init__(self,logfile):\n",
    "        self.terminal = sys.stdout\n",
    "        self.log = open(logfile, \"a\")\n",
    "\n",
    "    def write(self, message):\n",
    "        self.terminal.write(message)\n",
    "        self.log.write(message)  \n",
    "\n",
    "    def flush(self):\n",
    "        #this flush method is needed for python 3 compatibility.\n",
    "        #this handles the flush command by doing nothing.\n",
    "        #you might want to specify some extra behavior here.\n",
    "        pass    \n",
    "\n",
    "log=\"results.txt\"\n",
    "sys.stdout = Logger(log)\n"
   ]
  },
  {
   "cell_type": "code",
   "execution_count": 12,
   "metadata": {},
   "outputs": [],
   "source": [
    "# Create a reference the CSV file desired\n",
    "csv_path = \"Resources/election_data.csv\"\n",
    "\n",
    "# Read the CSV into a Pandas DataFrame\n",
    "election_df1 = pd.read_csv(csv_path)\n",
    "\n",
    "# How many votes were cast?\n",
    "\n",
    "num_votes =  election_df1[\"Voter ID\"].count()\n",
    "\n",
    "print(\"There were \" + str(num_votes) + \" votes cast.\")"
   ]
  },
  {
   "cell_type": "code",
   "execution_count": 13,
   "metadata": {},
   "outputs": [
    {
     "data": {
      "text/plain": [
       "array(['Khan', 'Correy', 'Li', \"O'Tooley\"], dtype=object)"
      ]
     },
     "execution_count": 13,
     "metadata": {},
     "output_type": "execute_result"
    }
   ],
   "source": [
    "# list the candidates \n",
    "candidates = election_df1[\"Candidate\"].unique()\n",
    "candidates\n"
   ]
  },
  {
   "cell_type": "code",
   "execution_count": 14,
   "metadata": {},
   "outputs": [
    {
     "data": {
      "text/plain": [
       "Khan        2218231\n",
       "Correy       704200\n",
       "Li           492940\n",
       "O'Tooley     105630\n",
       "Name: Candidate, dtype: int64"
      ]
     },
     "execution_count": 14,
     "metadata": {},
     "output_type": "execute_result"
    }
   ],
   "source": [
    "# total votes by candidate\n",
    "candidate_vote_counts = election_df1[\"Candidate\"].value_counts()\n",
    "candidate_vote_counts.head()\n"
   ]
  },
  {
   "cell_type": "code",
   "execution_count": 15,
   "metadata": {},
   "outputs": [],
   "source": [
    "# The percentage of votes by candidate\n",
    "candidate_percentage = candidate_vote_counts / num_votes * 100\n",
    "print(\"The vote percentages were \") \n",
    "print(candidate_percentage)"
   ]
  },
  {
   "cell_type": "code",
   "execution_count": 16,
   "metadata": {},
   "outputs": [],
   "source": [
    "# Winner based on popular vote\n",
    "vote_tally = pd.DataFrame(candidate_vote_counts)\n",
    "\n",
    "vote_tally.rename(columns={'Candidate': 'Votes'}, inplace=True)\n",
    "vote_tally.sort_values(\"Votes\",ascending=False)\n",
    "winner= vote_tally[:1].index[0]\n",
    "print (\"And the winner is \" + winner ) "
   ]
  },
  {
   "cell_type": "code",
   "execution_count": null,
   "metadata": {},
   "outputs": [],
   "source": []
  },
  {
   "cell_type": "code",
   "execution_count": null,
   "metadata": {},
   "outputs": [],
   "source": []
  }
 ],
 "metadata": {
  "kernelspec": {
   "display_name": "Python 3",
   "language": "python",
   "name": "python3"
  },
  "language_info": {
   "codemirror_mode": {
    "name": "ipython",
    "version": 3
   },
   "file_extension": ".py",
   "mimetype": "text/x-python",
   "name": "python",
   "nbconvert_exporter": "python",
   "pygments_lexer": "ipython3",
   "version": "3.6.5"
  }
 },
 "nbformat": 4,
 "nbformat_minor": 2
}
